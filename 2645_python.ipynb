{
  "nbformat": 4,
  "nbformat_minor": 0,
  "metadata": {
    "colab": {
      "provenance": [],
      "authorship_tag": "ABX9TyPW3dSToj+OFJCbBRnH+Ap1",
      "include_colab_link": true
    },
    "kernelspec": {
      "name": "python3",
      "display_name": "Python 3"
    },
    "language_info": {
      "name": "python"
    }
  },
  "cells": [
    {
      "cell_type": "markdown",
      "metadata": {
        "id": "view-in-github",
        "colab_type": "text"
      },
      "source": [
        "<a href=\"https://colab.research.google.com/github/Adyashaadyasha/Python/blob/main/2645_python.ipynb\" target=\"_parent\"><img src=\"https://colab.research.google.com/assets/colab-badge.svg\" alt=\"Open In Colab\"/></a>"
      ]
    },
    {
      "cell_type": "code",
      "execution_count": null,
      "metadata": {
        "id": "51b7zyxffe-c"
      },
      "outputs": [],
      "source": [
        "#1\n",
        "total_amt=int(input(\"Enter the total bill amount:\"))\n",
        "if total_amt>=1000:\n",
        "    total_amt=total_amt-(0.20*total_amt)\n",
        "elif total_amt>500 and total_amt<=1000:\n",
        "    total_amt=total_amt-(0.10*total_amt)\n",
        "else:\n",
        "    print(\"No discount applied\")\n",
        "print(total_amt)"
      ]
    },
    {
      "cell_type": "code",
      "source": [
        "#2\n",
        "score=int(input(\"Enter your score:\"))\n",
        "if (score >=90 and score <=100):\n",
        "    print(\"Grade A\")\n",
        "if (score >=70 and score <=89):\n",
        "    print(\"Grade B\")\n",
        "if (score >=50 and score <=69):\n",
        "    print(\"Grade C\")\n",
        "if (score <50):\n",
        "    print(\"Fail\")"
      ],
      "metadata": {
        "id": "XiVrwV3vfjYC"
      },
      "execution_count": null,
      "outputs": []
    },
    {
      "cell_type": "code",
      "source": [
        "#3\n",
        "age=int(input(\"Enter your age:\"))\n",
        "if age<13:\n",
        "    print(\"Child\")\n",
        "elif age>=13 and age<19:\n",
        "    print(\"Teen\")\n",
        "elif age>=20 and age<59:\n",
        "    print(\"Adult\")\n",
        "elif age>60:\n",
        "    print(\"Senior\")"
      ],
      "metadata": {
        "id": "UPoBTwQOfowv"
      },
      "execution_count": null,
      "outputs": []
    },
    {
      "cell_type": "code",
      "source": [
        "#4\n",
        "n=int(input(\"Enter a number:\"))\n",
        "if n%2==0 and n%5==0:\n",
        "    print(\"Even and divisible by 5\")\n",
        "elif n%2==1 and n%5==0:\n",
        "    print(\"Odd and divisible by 5\")\n",
        "elif n%2==0 and n%5!=0:\n",
        "    print(\"Even and not divisible by 5\")\n",
        "elif n%2==1 and n%5!=0:\n",
        "    print(\"Odd and not divisible by 5\")"
      ],
      "metadata": {
        "id": "UOD7vOcrfrcd"
      },
      "execution_count": null,
      "outputs": []
    },
    {
      "cell_type": "code",
      "source": [
        "#5\n",
        "s=\"john amy sita\"\n",
        "username= str(input(\"Enter username:\"))\n",
        "if username in s:\n",
        "    print(\"Logged in\")\n",
        "else:\n",
        "    print(\"Incorrect username\")"
      ],
      "metadata": {
        "id": "NZigaaI2ft_f"
      },
      "execution_count": null,
      "outputs": []
    },
    {
      "cell_type": "code",
      "source": [
        "#6\n",
        "num1=int(input(\"Enter first number:\"))\n",
        "num2=int(input(\"Enter second number:\"))\n",
        "if num1>num2:\n",
        "    print(num1,\"is greater\")\n",
        "elif num2>num1:\n",
        "    print(num2,\"is greater\")\n",
        "elif num1==num2:\n",
        "    print(\"Both are equal\")"
      ],
      "metadata": {
        "id": "vO51r0H3fwZK"
      },
      "execution_count": null,
      "outputs": []
    },
    {
      "cell_type": "code",
      "source": [
        "#7\n",
        "age=int(input(\"Enter your age:\"))\n",
        "if age>=18 and age<21:\n",
        "    print(\"Eligible for voting\")\n",
        "elif age>=21:\n",
        "    print(\"Eligible for driving\")"
      ],
      "metadata": {
        "id": "qAOGWx8Kfy1A"
      },
      "execution_count": null,
      "outputs": []
    },
    {
      "cell_type": "code",
      "source": [
        "#8\n",
        "n=int(input(\"Enter a year:\"))\n",
        "if n%4==0 and n%100!=0:\n",
        "    print(n,\"is a leap year\")\n",
        "elif n%400==0:\n",
        "    print(n,\"is a leap year\")\n",
        "else:\n",
        "    print(n,\"is not a leap year\")"
      ],
      "metadata": {
        "id": "sbkv_hHWf1Lv"
      },
      "execution_count": null,
      "outputs": []
    },
    {
      "cell_type": "code",
      "source": [
        "#9\n",
        "s=\"admin manager\"\n",
        "username=str(input(\"Enter username:\"))\n",
        "if username in s:\n",
        "    print(\"Login successful\")\n",
        "else:\n",
        "    print(\"Invalid username\")"
      ],
      "metadata": {
        "id": "VrDZP4TTf3ZI"
      },
      "execution_count": null,
      "outputs": []
    },
    {
      "cell_type": "code",
      "source": [
        "#10\n",
        "a=int(input(\"Enter first number:\"))\n",
        "b=int(input(\"Enter second number:\"))\n",
        "c=input(\"Enter operator:\")\n",
        "if c=='+':\n",
        "    print(a+b)\n",
        "elif c=='-':\n",
        "    print(a-b)\n",
        "elif c=='*':\n",
        "    print(a*b)\n",
        "elif c=='/':\n",
        "    print(a/b)"
      ],
      "metadata": {
        "id": "Znborm5wf5gL"
      },
      "execution_count": null,
      "outputs": []
    },
    {
      "cell_type": "code",
      "source": [
        "#11\n",
        "temp=int(input(\"Enter the temperature: \"))\n",
        "if temp>40:\n",
        "    print(\"Heat Alert\")\n",
        "elif 30<temp<=40:\n",
        "    print(\"Warm\")\n",
        "elif temp<=30:\n",
        "    print(\"Normal\")"
      ],
      "metadata": {
        "id": "V9EZoyE-f7vu"
      },
      "execution_count": null,
      "outputs": []
    },
    {
      "cell_type": "code",
      "source": [
        "#12\n",
        "password=input(\"Enter your password: \")\n",
        "if len(password)>=8 and '@' in password:\n",
        "    print(\"Strong password\")\n",
        "else:\n",
        "    print(\"Weak password\")"
      ],
      "metadata": {
        "id": "wekvRo7Bf-Ea"
      },
      "execution_count": null,
      "outputs": []
    },
    {
      "cell_type": "code",
      "source": [
        "#13\n",
        "bal=10000\n",
        "amt=int(input(\"Enter the amount: \"))\n",
        "if amt<=bal and amt%100==0:\n",
        "    print(\"Withdrawal successful\")\n",
        "else:\n",
        "    print(\"Withdrawal failed\")"
      ],
      "metadata": {
        "id": "6MNRGxwdgAIP"
      },
      "execution_count": null,
      "outputs": []
    },
    {
      "cell_type": "code",
      "source": [
        "#14\n",
        "n=int(input(\"Enter a number: \"))\n",
        "if n%3==0 and n%5==0:\n",
        "    print(\"Divisible by both 3 and 5\")\n",
        "elif n%3==0:\n",
        "    print(\"Divisible by only 3\")\n",
        "elif n%5==0:\n",
        "    print(\"Divisible by only 5\")\n",
        "elif n%3!=0 and n%5!=0:\n",
        "    print(\"Not divisible by 3 and 5\")"
      ],
      "metadata": {
        "id": "WC-5AzNVgCoq"
      },
      "execution_count": null,
      "outputs": []
    },
    {
      "cell_type": "code",
      "source": [
        "#15\n",
        "s='pen pencil eraser'\n",
        "n=input(\"Enter the product: \")\n",
        "if n in s:\n",
        "    print(\"Available\")\n",
        "else:\n",
        "    print(\"Not available\")"
      ],
      "metadata": {
        "id": "qPdfvFqzgE4C"
      },
      "execution_count": null,
      "outputs": []
    },
    {
      "cell_type": "code",
      "source": [
        "#16\n",
        "a=int(input(\"Enter side 1: \"))\n",
        "b=int(input(\"Enter side 2: \"))\n",
        "c=int(input(\"Enter side 3: \"))\n",
        "if a+b>c and a+c>b and b+c>a:\n",
        "    print(\"A valid triangle\")\n",
        "else:\n",
        "    print(\"Not a triangle\")"
      ],
      "metadata": {
        "id": "rnJyO3XAgHPK"
      },
      "execution_count": null,
      "outputs": []
    },
    {
      "cell_type": "code",
      "source": [
        "#17\n",
        "a=int(input(\"Enter first number: \"))\n",
        "b=int(input(\"Enter second number: \"))\n",
        "c=int(input(\"Enter third number: \"))\n",
        "if a>b and a>c:\n",
        "    print(a,\"is greater\")\n",
        "elif b>a and b>c:\n",
        "    print(b,\"is greater\")\n",
        "else:\n",
        "    print(c,\"is greater\")"
      ],
      "metadata": {
        "id": "FxyiZbZzgJTX"
      },
      "execution_count": null,
      "outputs": []
    },
    {
      "cell_type": "code",
      "source": [
        "#18\n",
        "i=int(input(\"Enter your marks: \"))\n",
        "if i>=0 and i<=100:\n",
        "    print(\"Marks is valid\")\n",
        "else:\n",
        "    print(\"Invalid\")"
      ],
      "metadata": {
        "id": "vcsrVljogLcL"
      },
      "execution_count": null,
      "outputs": []
    },
    {
      "cell_type": "code",
      "source": [
        "#19\n",
        "user='adyasha'\n",
        "passcode='adyasha@123'\n",
        "username=input(\"Enter username: \")\n",
        "password=input(\"Enter password: \")\n",
        "if username==user and password==passcode:\n",
        "    print(\"Login successful\")\n",
        "else:\n",
        "    print(\"Invalid credentials\")"
      ],
      "metadata": {
        "id": "GHARJUswgNp3"
      },
      "execution_count": null,
      "outputs": []
    },
    {
      "cell_type": "code",
      "source": [
        "#20\n",
        "n=int(input(\"Enter the total bill amount: \"))\n",
        "if n<=100:\n",
        "    print(\"5/unit\")\n",
        "elif n>=101 and n<200:\n",
        "    print(\"7/unit\")\n",
        "elif n>=200:\n",
        "    print(\"10/unit\")"
      ],
      "metadata": {
        "id": "M71MbghXgQOB"
      },
      "execution_count": null,
      "outputs": []
    }
  ]
}